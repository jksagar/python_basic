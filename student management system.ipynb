{
 "cells": [
  {
   "cell_type": "code",
   "execution_count": 1,
   "metadata": {},
   "outputs": [
    {
     "name": "stdout",
     "output_type": "stream",
     "text": [
      "['Geoffrey Hinton', 'Andrew Ng', 'Sebastian Raschka', 'Yoshua Bengio', 'Hilary Mason', 'Carla Gentry', 'Corinna Cortes']\n",
      "['Geoffrey Hinton', 'Andrew Ng', 'Sebastian Raschka', 'Yoshua Bengio', 'Hilary Mason', 'Carla Gentry', 'Corinna Cortes', 'Peter Warden']\n",
      "['Geoffrey Hinton', 'Andrew Ng', 'Sebastian Raschka', 'Yoshua Bengio', 'Hilary Mason', 'Corinna Cortes', 'Peter Warden']\n",
      "dict_values([65, 70, 80, 70, 60])\n",
      "345\n",
      "69.0\n",
      "Andrew Ng\n",
      "Ng Andrew\n"
     ]
    }
   ],
   "source": [
    "# Code starts here\n",
    "\n",
    "# Create the lists \n",
    "class_1=['Geoffrey Hinton','Andrew Ng','Sebastian Raschka','Yoshua Bengio']\n",
    "class_2=['Hilary Mason','Carla Gentry','Corinna Cortes']\n",
    "# Concatenate both the strings\n",
    "new_class=class_1+class_2\n",
    "print(new_class)\n",
    "# Append the list\n",
    "new_class.append('Peter Warden')\n",
    "# Print updated list\n",
    "print(new_class)\n",
    "# Remove the element from the list\n",
    "new_class.remove('Carla Gentry')\n",
    "# Print the list\n",
    "print(new_class)\n",
    "\n",
    "\n",
    "# Create the Dictionary\n",
    "courses={'Maths':65,'English':70,'History':80,'French':70,'Science':60}\n",
    "# Slice the dict and stores  the all subjects marks in variable\n",
    "values=courses.values()\n",
    "# Store the all the subject in one variable `Total`\n",
    "total=sum(values)\n",
    "print(values)\n",
    "# Print the total\n",
    "print(total)\n",
    "# Insert percentage formula\n",
    "percentage=(total/500)*100\n",
    "# Print the percentage\n",
    "print(percentage)\n",
    "# Create the Dictionary\n",
    "mathematics={'Geoffrey Hinton':78,'Andrew Ng':95,'Sebastian Raschka':65,'Yoshua Bengio':50}\n",
    "d2={'Hilary Mason':70,'Corinna Cortes':66,'Peter Warden':75}\n",
    "mathematics.update(d2)\n",
    "topper=max(mathematics,key=mathematics.get)\n",
    "print(topper)\n",
    "\n",
    "# Given string\n",
    "l1=topper.split()\n",
    "\n",
    "# Create variable first_name \n",
    "first_name=l1[0]\n",
    "# Create variable Last_name and store last two element in the list\n",
    "last_name=l1[1]\n",
    "# Concatenate the string\n",
    "full_name=last_name+\" \"+first_name\n",
    "# print the full_name\n",
    "print(full_name)\n",
    "# print the name in upper case\n",
    "certificate_name=full_name.upper()\n",
    "# Code ends here"
   ]
  },
  {
   "cell_type": "code",
   "execution_count": null,
   "metadata": {},
   "outputs": [],
   "source": []
  }
 ],
 "metadata": {
  "kernelspec": {
   "display_name": "Python 3",
   "language": "python",
   "name": "python3"
  },
  "language_info": {
   "codemirror_mode": {
    "name": "ipython",
    "version": 3
   },
   "file_extension": ".py",
   "mimetype": "text/x-python",
   "name": "python",
   "nbconvert_exporter": "python",
   "pygments_lexer": "ipython3",
   "version": "3.7.6"
  }
 },
 "nbformat": 4,
 "nbformat_minor": 4
}
